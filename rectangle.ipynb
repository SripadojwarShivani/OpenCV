{
 "cells": [
  {
   "cell_type": "code",
   "execution_count": 1,
   "id": "54417239",
   "metadata": {},
   "outputs": [],
   "source": [
    "import cv2 as cv\n",
    "import numpy as np"
   ]
  },
  {
   "cell_type": "code",
   "execution_count": 2,
   "id": "386d3a8d",
   "metadata": {},
   "outputs": [],
   "source": [
    "BLACK = (0, 0, 0)\n",
    "WHITE = (255, 255, 255)\n",
    "\n",
    "RED = (0, 0, 255)\n",
    "GREEN = (0, 255, 0)\n",
    "BLUE = (255, 0, 0)\n",
    "\n",
    "CYAN = (255, 255, 0)\n",
    "MAGENTA = (255, 0, 255)\n",
    "YELLOW = (0, 255, 255)\n"
   ]
  },
  {
   "cell_type": "code",
   "execution_count": 3,
   "id": "11a996e4",
   "metadata": {},
   "outputs": [],
   "source": [
    "p0 = 100, 10\n",
    "p1 = 200, 90\n",
    "p2 = 300, 20    \n",
    "p3 = 450, 80\n"
   ]
  },
  {
   "cell_type": "code",
   "execution_count": null,
   "id": "602a7027",
   "metadata": {},
   "outputs": [],
   "source": [
    "img = img = np.zeros((100, 500, 3), np.uint8)\n",
    "cv.rectangle(img, p0, p1, BLUE, 2)\n",
    "cv.rectangle(img, p2, p3, GREEN, cv.FILLED)\n",
    "cv.imshow('RGB', img)\n",
    "cv.waitKey(0)\n",
    "cv.destroyAllWindows()"
   ]
  },
  {
   "cell_type": "code",
   "execution_count": null,
   "id": "d876c905",
   "metadata": {},
   "outputs": [],
   "source": []
  }
 ],
 "metadata": {
  "kernelspec": {
   "display_name": "Python 3 (ipykernel)",
   "language": "python",
   "name": "python3"
  },
  "language_info": {
   "codemirror_mode": {
    "name": "ipython",
    "version": 3
   },
   "file_extension": ".py",
   "mimetype": "text/x-python",
   "name": "python",
   "nbconvert_exporter": "python",
   "pygments_lexer": "ipython3",
   "version": "3.9.7"
  }
 },
 "nbformat": 4,
 "nbformat_minor": 5
}

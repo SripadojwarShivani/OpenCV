{
 "cells": [
  {
   "cell_type": "code",
   "execution_count": 1,
   "id": "2c6f3059",
   "metadata": {},
   "outputs": [],
   "source": [
    "import cv2 as cv\n",
    "import numpy as np"
   ]
  },
  {
   "cell_type": "code",
   "execution_count": 2,
   "id": "785ae141",
   "metadata": {},
   "outputs": [],
   "source": [
    "BLUE = (255, 0, 0)\n",
    "center = 200, 50\n",
    "axes = 100, 30\n",
    "angle = 15"
   ]
  },
  {
   "cell_type": "code",
   "execution_count": null,
   "id": "979ff6ec",
   "metadata": {},
   "outputs": [],
   "source": [
    "img = img = np.zeros((100, 500, 3), np.uint8)\n",
    "cv.ellipse(img, center, axes, angle, 0, 360, BLUE, 2)\n",
    "cv.imshow('RGB', img)\n",
    "cv.waitKey(0)\n",
    "cv.destroyAllWindows()"
   ]
  },
  {
   "cell_type": "code",
   "execution_count": null,
   "id": "d489f4b7",
   "metadata": {},
   "outputs": [],
   "source": []
  }
 ],
 "metadata": {
  "kernelspec": {
   "display_name": "Python 3 (ipykernel)",
   "language": "python",
   "name": "python3"
  },
  "language_info": {
   "codemirror_mode": {
    "name": "ipython",
    "version": 3
   },
   "file_extension": ".py",
   "mimetype": "text/x-python",
   "name": "python",
   "nbconvert_exporter": "python",
   "pygments_lexer": "ipython3",
   "version": "3.9.7"
  }
 },
 "nbformat": 4,
 "nbformat_minor": 5
}
